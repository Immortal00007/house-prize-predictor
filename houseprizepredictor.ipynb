{
 "cells": [
  {
   "cell_type": "markdown",
   "id": "9cd167a9",
   "metadata": {},
   "source": [
    "# Dragon Real Estate-Prize Predictor"
   ]
  },
  {
   "cell_type": "code",
   "execution_count": 1,
   "id": "1c87714e",
   "metadata": {},
   "outputs": [],
   "source": [
    "import pandas as pd\n",
    "import numpy as np"
   ]
  },
  {
   "cell_type": "code",
   "execution_count": 2,
   "id": "d28d866f",
   "metadata": {},
   "outputs": [],
   "source": [
    "housing = pd.read_csv(\"data4.csv\")"
   ]
  },
  {
   "cell_type": "code",
   "execution_count": 3,
   "id": "1a8bc939",
   "metadata": {},
   "outputs": [],
   "source": [
    "housing.dropna(subset=['RM'], inplace=True)"
   ]
  },
  {
   "cell_type": "code",
   "execution_count": 4,
   "id": "4c0d0ce7",
   "metadata": {},
   "outputs": [],
   "source": [
    "housing.dropna(axis=1,inplace=True)"
   ]
  },
  {
   "cell_type": "code",
   "execution_count": 5,
   "id": "e9de1faa",
   "metadata": {},
   "outputs": [],
   "source": [
    "housing = housing.reset_index(drop=True)"
   ]
  },
  {
   "cell_type": "code",
   "execution_count": 6,
   "id": "8331d995",
   "metadata": {},
   "outputs": [
    {
     "data": {
      "text/html": [
       "<div>\n",
       "<style scoped>\n",
       "    .dataframe tbody tr th:only-of-type {\n",
       "        vertical-align: middle;\n",
       "    }\n",
       "\n",
       "    .dataframe tbody tr th {\n",
       "        vertical-align: top;\n",
       "    }\n",
       "\n",
       "    .dataframe thead th {\n",
       "        text-align: right;\n",
       "    }\n",
       "</style>\n",
       "<table border=\"1\" class=\"dataframe\">\n",
       "  <thead>\n",
       "    <tr style=\"text-align: right;\">\n",
       "      <th></th>\n",
       "      <th>CRIM</th>\n",
       "      <th>ZN</th>\n",
       "      <th>INDUS</th>\n",
       "      <th>CHAS</th>\n",
       "      <th>NOX</th>\n",
       "      <th>RM</th>\n",
       "      <th>AGE</th>\n",
       "      <th>DIS</th>\n",
       "      <th>RAD</th>\n",
       "      <th>TAX</th>\n",
       "      <th>PTRATIO</th>\n",
       "      <th>B</th>\n",
       "      <th>LSTAT</th>\n",
       "      <th>MEDV</th>\n",
       "    </tr>\n",
       "  </thead>\n",
       "  <tbody>\n",
       "    <tr>\n",
       "      <th>0</th>\n",
       "      <td>0.00632</td>\n",
       "      <td>18.0</td>\n",
       "      <td>2.31</td>\n",
       "      <td>0</td>\n",
       "      <td>0.538</td>\n",
       "      <td>6.575</td>\n",
       "      <td>65.2</td>\n",
       "      <td>4.0900</td>\n",
       "      <td>1</td>\n",
       "      <td>296</td>\n",
       "      <td>15.3</td>\n",
       "      <td>396.90</td>\n",
       "      <td>4.98</td>\n",
       "      <td>24.0</td>\n",
       "    </tr>\n",
       "    <tr>\n",
       "      <th>1</th>\n",
       "      <td>0.02731</td>\n",
       "      <td>0.0</td>\n",
       "      <td>7.07</td>\n",
       "      <td>0</td>\n",
       "      <td>0.469</td>\n",
       "      <td>6.421</td>\n",
       "      <td>78.9</td>\n",
       "      <td>4.9671</td>\n",
       "      <td>2</td>\n",
       "      <td>242</td>\n",
       "      <td>17.8</td>\n",
       "      <td>396.90</td>\n",
       "      <td>9.14</td>\n",
       "      <td>21.6</td>\n",
       "    </tr>\n",
       "    <tr>\n",
       "      <th>2</th>\n",
       "      <td>0.02729</td>\n",
       "      <td>0.0</td>\n",
       "      <td>7.07</td>\n",
       "      <td>0</td>\n",
       "      <td>0.469</td>\n",
       "      <td>7.185</td>\n",
       "      <td>61.1</td>\n",
       "      <td>4.9671</td>\n",
       "      <td>2</td>\n",
       "      <td>242</td>\n",
       "      <td>17.8</td>\n",
       "      <td>392.83</td>\n",
       "      <td>4.03</td>\n",
       "      <td>34.7</td>\n",
       "    </tr>\n",
       "    <tr>\n",
       "      <th>3</th>\n",
       "      <td>0.03237</td>\n",
       "      <td>0.0</td>\n",
       "      <td>2.18</td>\n",
       "      <td>0</td>\n",
       "      <td>0.458</td>\n",
       "      <td>6.998</td>\n",
       "      <td>45.8</td>\n",
       "      <td>6.0622</td>\n",
       "      <td>3</td>\n",
       "      <td>222</td>\n",
       "      <td>18.7</td>\n",
       "      <td>394.63</td>\n",
       "      <td>2.94</td>\n",
       "      <td>33.4</td>\n",
       "    </tr>\n",
       "    <tr>\n",
       "      <th>4</th>\n",
       "      <td>0.06905</td>\n",
       "      <td>0.0</td>\n",
       "      <td>2.18</td>\n",
       "      <td>0</td>\n",
       "      <td>0.458</td>\n",
       "      <td>7.147</td>\n",
       "      <td>54.2</td>\n",
       "      <td>6.0622</td>\n",
       "      <td>3</td>\n",
       "      <td>222</td>\n",
       "      <td>18.7</td>\n",
       "      <td>396.90</td>\n",
       "      <td>5.33</td>\n",
       "      <td>36.2</td>\n",
       "    </tr>\n",
       "  </tbody>\n",
       "</table>\n",
       "</div>"
      ],
      "text/plain": [
       "      CRIM    ZN   INDUS  CHAS    NOX     RM   AGE     DIS  RAD  TAX  \\\n",
       "0  0.00632  18.0    2.31     0  0.538  6.575  65.2  4.0900    1  296   \n",
       "1  0.02731   0.0    7.07     0  0.469  6.421  78.9  4.9671    2  242   \n",
       "2  0.02729   0.0    7.07     0  0.469  7.185  61.1  4.9671    2  242   \n",
       "3  0.03237   0.0    2.18     0  0.458  6.998  45.8  6.0622    3  222   \n",
       "4  0.06905   0.0    2.18     0  0.458  7.147  54.2  6.0622    3  222   \n",
       "\n",
       "    PTRATIO         B   LSTAT   MEDV  \n",
       "0        15.3  396.90    4.98   24.0  \n",
       "1        17.8  396.90    9.14   21.6  \n",
       "2        17.8  392.83    4.03   34.7  \n",
       "3        18.7  394.63    2.94   33.4  \n",
       "4        18.7  396.90    5.33   36.2  "
      ]
     },
     "execution_count": 6,
     "metadata": {},
     "output_type": "execute_result"
    }
   ],
   "source": [
    "housing.head()"
   ]
  },
  {
   "cell_type": "code",
   "execution_count": 7,
   "id": "f5f5e19b",
   "metadata": {},
   "outputs": [
    {
     "name": "stdout",
     "output_type": "stream",
     "text": [
      "<class 'pandas.core.frame.DataFrame'>\n",
      "RangeIndex: 501 entries, 0 to 500\n",
      "Data columns (total 14 columns):\n",
      " #   Column      Non-Null Count  Dtype  \n",
      "---  ------      --------------  -----  \n",
      " 0    CRIM       501 non-null    float64\n",
      " 1   ZN          501 non-null    float64\n",
      " 2    INDUS      501 non-null    float64\n",
      " 3   CHAS        501 non-null    int64  \n",
      " 4   NOX         501 non-null    float64\n",
      " 5   RM          501 non-null    float64\n",
      " 6   AGE         501 non-null    float64\n",
      " 7   DIS         501 non-null    float64\n",
      " 8   RAD         501 non-null    int64  \n",
      " 9   TAX         501 non-null    int64  \n",
      " 10   PTRATIO    501 non-null    float64\n",
      " 11   B          501 non-null    float64\n",
      " 12   LSTAT      501 non-null    float64\n",
      " 13   MEDV       501 non-null    float64\n",
      "dtypes: float64(11), int64(3)\n",
      "memory usage: 54.9 KB\n"
     ]
    }
   ],
   "source": [
    "housing.info()"
   ]
  },
  {
   "cell_type": "code",
   "execution_count": 8,
   "id": "dacae3b2",
   "metadata": {},
   "outputs": [
    {
     "data": {
      "text/plain": [
       "CHAS\n",
       "0    466\n",
       "1     35\n",
       "Name: count, dtype: int64"
      ]
     },
     "execution_count": 8,
     "metadata": {},
     "output_type": "execute_result"
    }
   ],
   "source": [
    "housing['CHAS'].value_counts()"
   ]
  },
  {
   "cell_type": "code",
   "execution_count": 9,
   "id": "96650c94",
   "metadata": {},
   "outputs": [
    {
     "data": {
      "text/html": [
       "<div>\n",
       "<style scoped>\n",
       "    .dataframe tbody tr th:only-of-type {\n",
       "        vertical-align: middle;\n",
       "    }\n",
       "\n",
       "    .dataframe tbody tr th {\n",
       "        vertical-align: top;\n",
       "    }\n",
       "\n",
       "    .dataframe thead th {\n",
       "        text-align: right;\n",
       "    }\n",
       "</style>\n",
       "<table border=\"1\" class=\"dataframe\">\n",
       "  <thead>\n",
       "    <tr style=\"text-align: right;\">\n",
       "      <th></th>\n",
       "      <th>CRIM</th>\n",
       "      <th>ZN</th>\n",
       "      <th>INDUS</th>\n",
       "      <th>CHAS</th>\n",
       "      <th>NOX</th>\n",
       "      <th>RM</th>\n",
       "      <th>AGE</th>\n",
       "      <th>DIS</th>\n",
       "      <th>RAD</th>\n",
       "      <th>TAX</th>\n",
       "      <th>PTRATIO</th>\n",
       "      <th>B</th>\n",
       "      <th>LSTAT</th>\n",
       "      <th>MEDV</th>\n",
       "    </tr>\n",
       "  </thead>\n",
       "  <tbody>\n",
       "    <tr>\n",
       "      <th>count</th>\n",
       "      <td>501.000000</td>\n",
       "      <td>501.000000</td>\n",
       "      <td>501.000000</td>\n",
       "      <td>501.000000</td>\n",
       "      <td>501.000000</td>\n",
       "      <td>501.000000</td>\n",
       "      <td>501.000000</td>\n",
       "      <td>501.000000</td>\n",
       "      <td>501.000000</td>\n",
       "      <td>501.000000</td>\n",
       "      <td>501.000000</td>\n",
       "      <td>501.000000</td>\n",
       "      <td>501.000000</td>\n",
       "      <td>501.000000</td>\n",
       "    </tr>\n",
       "    <tr>\n",
       "      <th>mean</th>\n",
       "      <td>1.730851</td>\n",
       "      <td>11.362275</td>\n",
       "      <td>11.177285</td>\n",
       "      <td>0.069860</td>\n",
       "      <td>0.555217</td>\n",
       "      <td>6.285577</td>\n",
       "      <td>68.621956</td>\n",
       "      <td>3.789483</td>\n",
       "      <td>9.596806</td>\n",
       "      <td>408.944112</td>\n",
       "      <td>18.456287</td>\n",
       "      <td>356.286866</td>\n",
       "      <td>12.665729</td>\n",
       "      <td>22.515170</td>\n",
       "    </tr>\n",
       "    <tr>\n",
       "      <th>std</th>\n",
       "      <td>2.662636</td>\n",
       "      <td>23.373831</td>\n",
       "      <td>6.879982</td>\n",
       "      <td>0.255166</td>\n",
       "      <td>0.116282</td>\n",
       "      <td>0.705197</td>\n",
       "      <td>28.146632</td>\n",
       "      <td>2.111182</td>\n",
       "      <td>8.737569</td>\n",
       "      <td>169.168900</td>\n",
       "      <td>2.159617</td>\n",
       "      <td>91.667238</td>\n",
       "      <td>7.155422</td>\n",
       "      <td>9.229226</td>\n",
       "    </tr>\n",
       "    <tr>\n",
       "      <th>min</th>\n",
       "      <td>0.006320</td>\n",
       "      <td>0.000000</td>\n",
       "      <td>0.460000</td>\n",
       "      <td>0.000000</td>\n",
       "      <td>0.385000</td>\n",
       "      <td>3.561000</td>\n",
       "      <td>2.900000</td>\n",
       "      <td>1.129600</td>\n",
       "      <td>1.000000</td>\n",
       "      <td>187.000000</td>\n",
       "      <td>12.600000</td>\n",
       "      <td>0.320000</td>\n",
       "      <td>1.730000</td>\n",
       "      <td>5.000000</td>\n",
       "    </tr>\n",
       "    <tr>\n",
       "      <th>25%</th>\n",
       "      <td>0.081870</td>\n",
       "      <td>0.000000</td>\n",
       "      <td>5.190000</td>\n",
       "      <td>0.000000</td>\n",
       "      <td>0.449000</td>\n",
       "      <td>5.887000</td>\n",
       "      <td>45.100000</td>\n",
       "      <td>2.088200</td>\n",
       "      <td>4.000000</td>\n",
       "      <td>279.000000</td>\n",
       "      <td>17.400000</td>\n",
       "      <td>375.210000</td>\n",
       "      <td>7.010000</td>\n",
       "      <td>16.800000</td>\n",
       "    </tr>\n",
       "    <tr>\n",
       "      <th>50%</th>\n",
       "      <td>0.251990</td>\n",
       "      <td>0.000000</td>\n",
       "      <td>9.690000</td>\n",
       "      <td>0.000000</td>\n",
       "      <td>0.538000</td>\n",
       "      <td>6.209000</td>\n",
       "      <td>77.700000</td>\n",
       "      <td>3.182700</td>\n",
       "      <td>5.000000</td>\n",
       "      <td>330.000000</td>\n",
       "      <td>19.000000</td>\n",
       "      <td>391.340000</td>\n",
       "      <td>11.380000</td>\n",
       "      <td>21.200000</td>\n",
       "    </tr>\n",
       "    <tr>\n",
       "      <th>75%</th>\n",
       "      <td>2.368620</td>\n",
       "      <td>12.500000</td>\n",
       "      <td>18.100000</td>\n",
       "      <td>0.000000</td>\n",
       "      <td>0.624000</td>\n",
       "      <td>6.625000</td>\n",
       "      <td>94.000000</td>\n",
       "      <td>5.118000</td>\n",
       "      <td>24.000000</td>\n",
       "      <td>666.000000</td>\n",
       "      <td>20.200000</td>\n",
       "      <td>396.210000</td>\n",
       "      <td>16.960000</td>\n",
       "      <td>25.000000</td>\n",
       "    </tr>\n",
       "    <tr>\n",
       "      <th>max</th>\n",
       "      <td>9.966540</td>\n",
       "      <td>100.000000</td>\n",
       "      <td>27.740000</td>\n",
       "      <td>1.000000</td>\n",
       "      <td>0.871000</td>\n",
       "      <td>8.780000</td>\n",
       "      <td>100.000000</td>\n",
       "      <td>12.126500</td>\n",
       "      <td>24.000000</td>\n",
       "      <td>711.000000</td>\n",
       "      <td>22.000000</td>\n",
       "      <td>396.900000</td>\n",
       "      <td>37.970000</td>\n",
       "      <td>50.000000</td>\n",
       "    </tr>\n",
       "  </tbody>\n",
       "</table>\n",
       "</div>"
      ],
      "text/plain": [
       "             CRIM          ZN       INDUS        CHAS         NOX          RM  \\\n",
       "count  501.000000  501.000000  501.000000  501.000000  501.000000  501.000000   \n",
       "mean     1.730851   11.362275   11.177285    0.069860    0.555217    6.285577   \n",
       "std      2.662636   23.373831    6.879982    0.255166    0.116282    0.705197   \n",
       "min      0.006320    0.000000    0.460000    0.000000    0.385000    3.561000   \n",
       "25%      0.081870    0.000000    5.190000    0.000000    0.449000    5.887000   \n",
       "50%      0.251990    0.000000    9.690000    0.000000    0.538000    6.209000   \n",
       "75%      2.368620   12.500000   18.100000    0.000000    0.624000    6.625000   \n",
       "max      9.966540  100.000000   27.740000    1.000000    0.871000    8.780000   \n",
       "\n",
       "              AGE         DIS         RAD         TAX   PTRATIO             B  \\\n",
       "count  501.000000  501.000000  501.000000  501.000000  501.000000  501.000000   \n",
       "mean    68.621956    3.789483    9.596806  408.944112   18.456287  356.286866   \n",
       "std     28.146632    2.111182    8.737569  169.168900    2.159617   91.667238   \n",
       "min      2.900000    1.129600    1.000000  187.000000   12.600000    0.320000   \n",
       "25%     45.100000    2.088200    4.000000  279.000000   17.400000  375.210000   \n",
       "50%     77.700000    3.182700    5.000000  330.000000   19.000000  391.340000   \n",
       "75%     94.000000    5.118000   24.000000  666.000000   20.200000  396.210000   \n",
       "max    100.000000   12.126500   24.000000  711.000000   22.000000  396.900000   \n",
       "\n",
       "            LSTAT        MEDV  \n",
       "count  501.000000  501.000000  \n",
       "mean    12.665729   22.515170  \n",
       "std      7.155422    9.229226  \n",
       "min      1.730000    5.000000  \n",
       "25%      7.010000   16.800000  \n",
       "50%     11.380000   21.200000  \n",
       "75%     16.960000   25.000000  \n",
       "max     37.970000   50.000000  "
      ]
     },
     "execution_count": 9,
     "metadata": {},
     "output_type": "execute_result"
    }
   ],
   "source": [
    "housing.describe()"
   ]
  },
  {
   "cell_type": "code",
   "execution_count": 10,
   "id": "213f53ec",
   "metadata": {},
   "outputs": [],
   "source": [
    "# %matplotlib inline"
   ]
  },
  {
   "cell_type": "code",
   "execution_count": 11,
   "id": "a1d1ad7a",
   "metadata": {},
   "outputs": [],
   "source": [
    "# import matplotlib.pyplot as plt"
   ]
  },
  {
   "cell_type": "code",
   "execution_count": 12,
   "id": "422f6854",
   "metadata": {},
   "outputs": [],
   "source": [
    "# housing.hist(bins=50 , figsize=(20,15))"
   ]
  },
  {
   "cell_type": "markdown",
   "id": "b685c97a",
   "metadata": {},
   "source": [
    "# Train-Test Splitting"
   ]
  },
  {
   "cell_type": "code",
   "execution_count": 13,
   "id": "b5489a39",
   "metadata": {},
   "outputs": [],
   "source": [
    "#for leaning purpose\n",
    "# import numpy as np\n",
    "\n",
    "# def split_train_test(data,test_ratio):\n",
    "#     np.random.seed(42)\n",
    "#     shuffled = np.random.permutation(len(data))\n",
    "#     print(shuffled)\n",
    "#     test_set_size = int(len(data)*test_ratio)\n",
    "#     test_indices = shuffled[:test_set_size]\n",
    "#     train_indices = shuffled[test_set_size:]\n",
    "#     return data.iloc[train_indices] ,  data.iloc[test_indices] "
   ]
  },
  {
   "cell_type": "code",
   "execution_count": 14,
   "id": "d38de812",
   "metadata": {},
   "outputs": [],
   "source": [
    "# train_set , test_set = split_train_test(housing , 0.2)"
   ]
  },
  {
   "cell_type": "code",
   "execution_count": 15,
   "id": "414219ce",
   "metadata": {},
   "outputs": [],
   "source": [
    "# print(f\"Raws in train set : {len(train_set)}\\nRaws in test set: {len(test_set)}\\n\" )"
   ]
  },
  {
   "cell_type": "code",
   "execution_count": 16,
   "id": "a5c0a4db",
   "metadata": {},
   "outputs": [],
   "source": [
    "from sklearn.model_selection import train_test_split\n",
    "train_set, test_set = train_test_split(housing, test_size=0.2, random_state=42)"
   ]
  },
  {
   "cell_type": "code",
   "execution_count": 17,
   "id": "1b4cb9ab",
   "metadata": {},
   "outputs": [
    {
     "name": "stdout",
     "output_type": "stream",
     "text": [
      "Raws in train set : 400\n",
      "Raws in test set: 101\n",
      "\n"
     ]
    }
   ],
   "source": [
    "print(f\"Raws in train set : {len(train_set)}\\nRaws in test set: {len(test_set)}\\n\" )"
   ]
  },
  {
   "cell_type": "code",
   "execution_count": 18,
   "id": "c4edeb14",
   "metadata": {},
   "outputs": [],
   "source": [
    "from sklearn.model_selection import StratifiedShuffleSplit\n",
    "split = StratifiedShuffleSplit(n_splits=1, test_size=0.2, random_state=42)\n",
    "for train_index, test_index in split.split(housing,housing['CHAS']):\n",
    "    strat_train_set = housing.loc[train_index]\n",
    "    strat_test_set = housing.loc[test_index]"
   ]
  },
  {
   "cell_type": "code",
   "execution_count": 19,
   "id": "851c02b5",
   "metadata": {},
   "outputs": [
    {
     "data": {
      "text/plain": [
       "CHAS\n",
       "0    372\n",
       "1     28\n",
       "Name: count, dtype: int64"
      ]
     },
     "execution_count": 19,
     "metadata": {},
     "output_type": "execute_result"
    }
   ],
   "source": [
    "strat_train_set['CHAS'].value_counts()"
   ]
  },
  {
   "cell_type": "code",
   "execution_count": 20,
   "id": "d848bd01",
   "metadata": {},
   "outputs": [],
   "source": [
    "# 95/7"
   ]
  },
  {
   "cell_type": "code",
   "execution_count": 21,
   "id": "85d2fa7c",
   "metadata": {},
   "outputs": [],
   "source": [
    "# 376/28"
   ]
  },
  {
   "cell_type": "code",
   "execution_count": 22,
   "id": "cc204656",
   "metadata": {},
   "outputs": [],
   "source": [
    "housing = strat_train_set.copy()"
   ]
  },
  {
   "cell_type": "markdown",
   "id": "82ee9161",
   "metadata": {},
   "source": [
    "# Looking For correlations"
   ]
  },
  {
   "cell_type": "code",
   "execution_count": 23,
   "id": "40c2e75e",
   "metadata": {},
   "outputs": [],
   "source": [
    "corr_matrix = housing.corr()"
   ]
  },
  {
   "cell_type": "code",
   "execution_count": 24,
   "id": "a694e8f3",
   "metadata": {},
   "outputs": [
    {
     "data": {
      "text/plain": [
       " MEDV         1.000000\n",
       "RM            0.706237\n",
       "ZN            0.342460\n",
       " B            0.335222\n",
       "DIS           0.219108\n",
       "CHAS          0.202094\n",
       " CRIM        -0.331379\n",
       "AGE          -0.347537\n",
       "RAD          -0.359551\n",
       "NOX          -0.405827\n",
       "TAX          -0.445225\n",
       " INDUS       -0.452683\n",
       " PTRATIO     -0.490143\n",
       " LSTAT       -0.736765\n",
       "Name:  MEDV, dtype: float64"
      ]
     },
     "execution_count": 24,
     "metadata": {},
     "output_type": "execute_result"
    }
   ],
   "source": [
    "corr_matrix[' MEDV'].sort_values(ascending=False)"
   ]
  },
  {
   "cell_type": "code",
   "execution_count": 25,
   "id": "d3f325da",
   "metadata": {},
   "outputs": [
    {
     "data": {
      "text/plain": [
       "array([[<Axes: xlabel='RM', ylabel='RM'>,\n",
       "        <Axes: xlabel=' MEDV', ylabel='RM'>,\n",
       "        <Axes: xlabel='ZN', ylabel='RM'>,\n",
       "        <Axes: xlabel=' LSTAT', ylabel='RM'>],\n",
       "       [<Axes: xlabel='RM', ylabel=' MEDV'>,\n",
       "        <Axes: xlabel=' MEDV', ylabel=' MEDV'>,\n",
       "        <Axes: xlabel='ZN', ylabel=' MEDV'>,\n",
       "        <Axes: xlabel=' LSTAT', ylabel=' MEDV'>],\n",
       "       [<Axes: xlabel='RM', ylabel='ZN'>,\n",
       "        <Axes: xlabel=' MEDV', ylabel='ZN'>,\n",
       "        <Axes: xlabel='ZN', ylabel='ZN'>,\n",
       "        <Axes: xlabel=' LSTAT', ylabel='ZN'>],\n",
       "       [<Axes: xlabel='RM', ylabel=' LSTAT'>,\n",
       "        <Axes: xlabel=' MEDV', ylabel=' LSTAT'>,\n",
       "        <Axes: xlabel='ZN', ylabel=' LSTAT'>,\n",
       "        <Axes: xlabel=' LSTAT', ylabel=' LSTAT'>]], dtype=object)"
      ]
     },
     "execution_count": 25,
     "metadata": {},
     "output_type": "execute_result"
    },
    {
     "data": {
      "image/png": "[encoded data removed]",
      "text/plain": [
       "<Figure size 1200x800 with 16 Axes>"
      ]
     },
     "metadata": {},
     "output_type": "display_data"
    }
   ],
   "source": [
    "from pandas.plotting import scatter_matrix\n",
    "attributes = ['RM', ' MEDV', 'ZN',' LSTAT']\n",
    "scatter_matrix(housing[attributes],  figsize = (12,8))"
   ]
  },
  {
   "cell_type": "code",
   "execution_count": 26,
   "id": "93ab40e1",
   "metadata": {},
   "outputs": [
    {
     "name": "stdout",
     "output_type": "stream",
     "text": [
      "Index([' CRIM', 'ZN', ' INDUS', 'CHAS', 'NOX', 'RM', 'AGE', 'DIS', 'RAD',\n",
      "       'TAX', ' PTRATIO  ', ' B', ' LSTAT', ' MEDV'],\n",
      "      dtype='object')\n"
     ]
    }
   ],
   "source": [
    "print(housing.columns) #to see the names of the columns"
   ]
  },
  {
   "cell_type": "code",
   "execution_count": 27,
   "id": "1ed0cfff",
   "metadata": {},
   "outputs": [
    {
     "data": {
      "text/plain": [
       "<Axes: xlabel='RM', ylabel=' MEDV'>"
      ]
     },
     "execution_count": 27,
     "metadata": {},
     "output_type": "execute_result"
    },
    {
     "data": {
      "image/png": "[encoded data removed]",
      "text/plain": [
       "<Figure size 640x480 with 1 Axes>"
      ]
     },
     "metadata": {},
     "output_type": "display_data"
    }
   ],
   "source": [
    "housing.plot(kind=\"scatter\", x='RM', y=' MEDV',alpha= 0.2)"
   ]
  },
  {
   "cell_type": "markdown",
   "id": "2fe961ef",
   "metadata": {},
   "source": [
    "# Trying Out Attribute Combination"
   ]
  },
  {
   "cell_type": "code",
   "execution_count": 28,
   "id": "9e9bce5a",
   "metadata": {},
   "outputs": [],
   "source": [
    "housing['TAXRM']= housing['TAX']/housing['RM']"
   ]
  },
  {
   "cell_type": "code",
   "execution_count": 29,
   "id": "82c4adb8",
   "metadata": {},
   "outputs": [
    {
     "data": {
      "text/plain": [
       "15      51.252087\n",
       "302     29.919137\n",
       "123     33.493675\n",
       "220     37.140092\n",
       "469    122.719735\n",
       "          ...    \n",
       "216     44.166307\n",
       "457    105.429793\n",
       "61      41.999408\n",
       "376    101.757066\n",
       "359     75.854214\n",
       "Name: TAXRM, Length: 400, dtype: float64"
      ]
     },
     "execution_count": 29,
     "metadata": {},
     "output_type": "execute_result"
    }
   ],
   "source": [
    "housing['TAXRM']"
   ]
  },
  {
   "cell_type": "code",
   "execution_count": 30,
   "id": "7bc7136c",
   "metadata": {},
   "outputs": [
    {
     "data": {
      "text/html": [
       "<div>\n",
       "<style scoped>\n",
       "    .dataframe tbody tr th:only-of-type {\n",
       "        vertical-align: middle;\n",
       "    }\n",
       "\n",
       "    .dataframe tbody tr th {\n",
       "        vertical-align: top;\n",
       "    }\n",
       "\n",
       "    .dataframe thead th {\n",
       "        text-align: right;\n",
       "    }\n",
       "</style>\n",
       "<table border=\"1\" class=\"dataframe\">\n",
       "  <thead>\n",
       "    <tr style=\"text-align: right;\">\n",
       "      <th></th>\n",
       "      <th>CRIM</th>\n",
       "      <th>ZN</th>\n",
       "      <th>INDUS</th>\n",
       "      <th>CHAS</th>\n",
       "      <th>NOX</th>\n",
       "      <th>RM</th>\n",
       "      <th>AGE</th>\n",
       "      <th>DIS</th>\n",
       "      <th>RAD</th>\n",
       "      <th>TAX</th>\n",
       "      <th>PTRATIO</th>\n",
       "      <th>B</th>\n",
       "      <th>LSTAT</th>\n",
       "      <th>MEDV</th>\n",
       "      <th>TAXRM</th>\n",
       "    </tr>\n",
       "  </thead>\n",
       "  <tbody>\n",
       "    <tr>\n",
       "      <th>15</th>\n",
       "      <td>0.78420</td>\n",
       "      <td>0.0</td>\n",
       "      <td>8.14</td>\n",
       "      <td>0</td>\n",
       "      <td>0.538</td>\n",
       "      <td>5.990</td>\n",
       "      <td>81.7</td>\n",
       "      <td>4.2579</td>\n",
       "      <td>4</td>\n",
       "      <td>307</td>\n",
       "      <td>21.0</td>\n",
       "      <td>386.75</td>\n",
       "      <td>14.67</td>\n",
       "      <td>17.5</td>\n",
       "      <td>51.252087</td>\n",
       "    </tr>\n",
       "    <tr>\n",
       "      <th>302</th>\n",
       "      <td>0.07503</td>\n",
       "      <td>33.0</td>\n",
       "      <td>2.18</td>\n",
       "      <td>0</td>\n",
       "      <td>0.472</td>\n",
       "      <td>7.420</td>\n",
       "      <td>71.9</td>\n",
       "      <td>3.0992</td>\n",
       "      <td>7</td>\n",
       "      <td>222</td>\n",
       "      <td>18.4</td>\n",
       "      <td>396.90</td>\n",
       "      <td>6.47</td>\n",
       "      <td>33.4</td>\n",
       "      <td>29.919137</td>\n",
       "    </tr>\n",
       "    <tr>\n",
       "      <th>123</th>\n",
       "      <td>0.38735</td>\n",
       "      <td>0.0</td>\n",
       "      <td>25.65</td>\n",
       "      <td>0</td>\n",
       "      <td>0.581</td>\n",
       "      <td>5.613</td>\n",
       "      <td>95.6</td>\n",
       "      <td>1.7572</td>\n",
       "      <td>2</td>\n",
       "      <td>188</td>\n",
       "      <td>19.1</td>\n",
       "      <td>359.29</td>\n",
       "      <td>27.26</td>\n",
       "      <td>15.7</td>\n",
       "      <td>33.493675</td>\n",
       "    </tr>\n",
       "    <tr>\n",
       "      <th>220</th>\n",
       "      <td>0.31533</td>\n",
       "      <td>0.0</td>\n",
       "      <td>6.20</td>\n",
       "      <td>0</td>\n",
       "      <td>0.504</td>\n",
       "      <td>8.266</td>\n",
       "      <td>78.3</td>\n",
       "      <td>2.8944</td>\n",
       "      <td>8</td>\n",
       "      <td>307</td>\n",
       "      <td>17.4</td>\n",
       "      <td>385.05</td>\n",
       "      <td>4.14</td>\n",
       "      <td>44.8</td>\n",
       "      <td>37.140092</td>\n",
       "    </tr>\n",
       "    <tr>\n",
       "      <th>469</th>\n",
       "      <td>8.05579</td>\n",
       "      <td>0.0</td>\n",
       "      <td>18.10</td>\n",
       "      <td>0</td>\n",
       "      <td>0.584</td>\n",
       "      <td>5.427</td>\n",
       "      <td>95.4</td>\n",
       "      <td>2.4298</td>\n",
       "      <td>24</td>\n",
       "      <td>666</td>\n",
       "      <td>20.2</td>\n",
       "      <td>352.58</td>\n",
       "      <td>18.14</td>\n",
       "      <td>13.8</td>\n",
       "      <td>122.719735</td>\n",
       "    </tr>\n",
       "  </tbody>\n",
       "</table>\n",
       "</div>"
      ],
      "text/plain": [
       "        CRIM    ZN   INDUS  CHAS    NOX     RM   AGE     DIS  RAD  TAX  \\\n",
       "15   0.78420   0.0    8.14     0  0.538  5.990  81.7  4.2579    4  307   \n",
       "302  0.07503  33.0    2.18     0  0.472  7.420  71.9  3.0992    7  222   \n",
       "123  0.38735   0.0   25.65     0  0.581  5.613  95.6  1.7572    2  188   \n",
       "220  0.31533   0.0    6.20     0  0.504  8.266  78.3  2.8944    8  307   \n",
       "469  8.05579   0.0   18.10     0  0.584  5.427  95.4  2.4298   24  666   \n",
       "\n",
       "      PTRATIO         B   LSTAT   MEDV       TAXRM  \n",
       "15         21.0  386.75   14.67   17.5   51.252087  \n",
       "302        18.4  396.90    6.47   33.4   29.919137  \n",
       "123        19.1  359.29   27.26   15.7   33.493675  \n",
       "220        17.4  385.05    4.14   44.8   37.140092  \n",
       "469        20.2  352.58   18.14   13.8  122.719735  "
      ]
     },
     "execution_count": 30,
     "metadata": {},
     "output_type": "execute_result"
    }
   ],
   "source": [
    "housing.head()"
   ]
  },
  {
   "cell_type": "code",
   "execution_count": 31,
   "id": "f000941c",
   "metadata": {},
   "outputs": [
    {
     "data": {
      "text/plain": [
       " MEDV         1.000000\n",
       "RM            0.706237\n",
       "ZN            0.342460\n",
       " B            0.335222\n",
       "DIS           0.219108\n",
       "CHAS          0.202094\n",
       " CRIM        -0.331379\n",
       "AGE          -0.347537\n",
       "RAD          -0.359551\n",
       "NOX          -0.405827\n",
       "TAX          -0.445225\n",
       " INDUS       -0.452683\n",
       " PTRATIO     -0.490143\n",
       "TAXRM        -0.531902\n",
       " LSTAT       -0.736765\n",
       "Name:  MEDV, dtype: float64"
      ]
     },
     "execution_count": 31,
     "metadata": {},
     "output_type": "execute_result"
    }
   ],
   "source": [
    "corr_matrix = housing.corr()\n",
    "corr_matrix[' MEDV'].sort_values(ascending=False)"
   ]
  },
  {
   "cell_type": "code",
   "execution_count": 32,
   "id": "9c2781dc",
   "metadata": {},
   "outputs": [
    {
     "data": {
      "text/plain": [
       "<Axes: xlabel='TAXRM', ylabel=' MEDV'>"
      ]
     },
     "execution_count": 32,
     "metadata": {},
     "output_type": "execute_result"
    },
    {
     "data": {
      "image/png": "[encoded data removed]",
      "text/plain": [
       "<Figure size 640x480 with 1 Axes>"
      ]
     },
     "metadata": {},
     "output_type": "display_data"
    }
   ],
   "source": [
    "housing.plot(kind=\"scatter\", x='TAXRM', y=' MEDV',alpha= 0.2)"
   ]
  },
  {
   "cell_type": "code",
   "execution_count": 33,
   "id": "3df93987",
   "metadata": {},
   "outputs": [],
   "source": [
    "housing = strat_train_set.drop(' MEDV' , axis=1)\n",
    "housing_labels = strat_train_set[' MEDV'].copy()"
   ]
  },
  {
   "cell_type": "markdown",
   "id": "208d2d96",
   "metadata": {},
   "source": [
    "# Missing Attributes"
   ]
  },
  {
   "cell_type": "code",
   "execution_count": 34,
   "id": "1162efc9",
   "metadata": {},
   "outputs": [],
   "source": [
    "# To take care of missing data ,you have three options:\n",
    "#     1.Get rid of the missing data points ...cannot remove data points if they were so much\n",
    "#     2.Get rid of the whole attribute .....cannot remove rm as it is important\n",
    "#     3.set the value to some value(0,mean or median)....this is the only option"
   ]
  },
  {
   "cell_type": "code",
   "execution_count": 35,
   "id": "5e4c19da",
   "metadata": {},
   "outputs": [],
   "source": [
    "# a=housing.dropna(subset=['RM']) #option 1\n",
    "# a.shape\n",
    "#Note that the original housing dataframe will remain unchanged\n"
   ]
  },
  {
   "cell_type": "code",
   "execution_count": 36,
   "id": "5ae547b9",
   "metadata": {},
   "outputs": [
    {
     "data": {
      "text/plain": [
       "(400, 12)"
      ]
     },
     "execution_count": 36,
     "metadata": {},
     "output_type": "execute_result"
    }
   ],
   "source": [
    "housing.drop('RM',axis=1).shape #option 2\n",
    "#Note that the original housing dataframe will remain unchanged"
   ]
  },
  {
   "cell_type": "code",
   "execution_count": 37,
   "id": "1ac986d2",
   "metadata": {},
   "outputs": [],
   "source": [
    "median = housing[\"RM\"].median #option 3"
   ]
  },
  {
   "cell_type": "code",
   "execution_count": 38,
   "id": "bfff0887",
   "metadata": {},
   "outputs": [
    {
     "data": {
      "text/plain": [
       "15     5.990\n",
       "302    7.420\n",
       "123    5.613\n",
       "220    8.266\n",
       "469    5.427\n",
       "       ...  \n",
       "216    6.951\n",
       "457    6.317\n",
       "61     6.762\n",
       "376    6.545\n",
       "359    8.780\n",
       "Name: RM, Length: 400, dtype: float64"
      ]
     },
     "execution_count": 38,
     "metadata": {},
     "output_type": "execute_result"
    }
   ],
   "source": [
    "housing['RM'].fillna(median)\n",
    "#note that the original will remain unchanged"
   ]
  },
  {
   "cell_type": "code",
   "execution_count": 39,
   "id": "d85a4aa3",
   "metadata": {},
   "outputs": [
    {
     "data": {
      "text/plain": [
       "(400, 13)"
      ]
     },
     "execution_count": 39,
     "metadata": {},
     "output_type": "execute_result"
    }
   ],
   "source": [
    "housing.shape"
   ]
  },
  {
   "cell_type": "code",
   "execution_count": 40,
   "id": "331b3173",
   "metadata": {},
   "outputs": [
    {
     "data": {
      "text/html": [
       "<div>\n",
       "<style scoped>\n",
       "    .dataframe tbody tr th:only-of-type {\n",
       "        vertical-align: middle;\n",
       "    }\n",
       "\n",
       "    .dataframe tbody tr th {\n",
       "        vertical-align: top;\n",
       "    }\n",
       "\n",
       "    .dataframe thead th {\n",
       "        text-align: right;\n",
       "    }\n",
       "</style>\n",
       "<table border=\"1\" class=\"dataframe\">\n",
       "  <thead>\n",
       "    <tr style=\"text-align: right;\">\n",
       "      <th></th>\n",
       "      <th>CRIM</th>\n",
       "      <th>ZN</th>\n",
       "      <th>INDUS</th>\n",
       "      <th>CHAS</th>\n",
       "      <th>NOX</th>\n",
       "      <th>RM</th>\n",
       "      <th>AGE</th>\n",
       "      <th>DIS</th>\n",
       "      <th>RAD</th>\n",
       "      <th>TAX</th>\n",
       "      <th>PTRATIO</th>\n",
       "      <th>B</th>\n",
       "      <th>LSTAT</th>\n",
       "    </tr>\n",
       "  </thead>\n",
       "  <tbody>\n",
       "    <tr>\n",
       "      <th>count</th>\n",
       "      <td>400.000000</td>\n",
       "      <td>400.000000</td>\n",
       "      <td>400.000000</td>\n",
       "      <td>400.000000</td>\n",
       "      <td>400.000000</td>\n",
       "      <td>400.000000</td>\n",
       "      <td>400.000000</td>\n",
       "      <td>400.000000</td>\n",
       "      <td>400.000000</td>\n",
       "      <td>400.000000</td>\n",
       "      <td>400.000000</td>\n",
       "      <td>400.000000</td>\n",
       "      <td>400.000000</td>\n",
       "    </tr>\n",
       "    <tr>\n",
       "      <th>mean</th>\n",
       "      <td>1.750448</td>\n",
       "      <td>10.460000</td>\n",
       "      <td>11.366800</td>\n",
       "      <td>0.070000</td>\n",
       "      <td>0.558980</td>\n",
       "      <td>6.305620</td>\n",
       "      <td>68.952250</td>\n",
       "      <td>3.759230</td>\n",
       "      <td>9.720000</td>\n",
       "      <td>411.605000</td>\n",
       "      <td>18.497250</td>\n",
       "      <td>354.095550</td>\n",
       "      <td>12.726100</td>\n",
       "    </tr>\n",
       "    <tr>\n",
       "      <th>std</th>\n",
       "      <td>2.626672</td>\n",
       "      <td>22.258076</td>\n",
       "      <td>6.806869</td>\n",
       "      <td>0.255467</td>\n",
       "      <td>0.118738</td>\n",
       "      <td>0.687595</td>\n",
       "      <td>28.224529</td>\n",
       "      <td>2.090139</td>\n",
       "      <td>8.806275</td>\n",
       "      <td>168.913256</td>\n",
       "      <td>2.121478</td>\n",
       "      <td>93.971145</td>\n",
       "      <td>7.138033</td>\n",
       "    </tr>\n",
       "    <tr>\n",
       "      <th>min</th>\n",
       "      <td>0.006320</td>\n",
       "      <td>0.000000</td>\n",
       "      <td>0.460000</td>\n",
       "      <td>0.000000</td>\n",
       "      <td>0.385000</td>\n",
       "      <td>4.138000</td>\n",
       "      <td>2.900000</td>\n",
       "      <td>1.129600</td>\n",
       "      <td>1.000000</td>\n",
       "      <td>187.000000</td>\n",
       "      <td>12.600000</td>\n",
       "      <td>0.320000</td>\n",
       "      <td>1.730000</td>\n",
       "    </tr>\n",
       "    <tr>\n",
       "      <th>25%</th>\n",
       "      <td>0.088282</td>\n",
       "      <td>0.000000</td>\n",
       "      <td>5.320000</td>\n",
       "      <td>0.000000</td>\n",
       "      <td>0.452000</td>\n",
       "      <td>5.887750</td>\n",
       "      <td>45.800000</td>\n",
       "      <td>2.087875</td>\n",
       "      <td>4.000000</td>\n",
       "      <td>281.000000</td>\n",
       "      <td>17.400000</td>\n",
       "      <td>374.527500</td>\n",
       "      <td>7.187500</td>\n",
       "    </tr>\n",
       "    <tr>\n",
       "      <th>50%</th>\n",
       "      <td>0.274475</td>\n",
       "      <td>0.000000</td>\n",
       "      <td>9.900000</td>\n",
       "      <td>0.000000</td>\n",
       "      <td>0.538000</td>\n",
       "      <td>6.213500</td>\n",
       "      <td>78.750000</td>\n",
       "      <td>3.142300</td>\n",
       "      <td>5.000000</td>\n",
       "      <td>332.000000</td>\n",
       "      <td>19.050000</td>\n",
       "      <td>390.660000</td>\n",
       "      <td>11.655000</td>\n",
       "    </tr>\n",
       "    <tr>\n",
       "      <th>75%</th>\n",
       "      <td>2.396888</td>\n",
       "      <td>3.125000</td>\n",
       "      <td>18.100000</td>\n",
       "      <td>0.000000</td>\n",
       "      <td>0.631000</td>\n",
       "      <td>6.629250</td>\n",
       "      <td>93.900000</td>\n",
       "      <td>5.116700</td>\n",
       "      <td>24.000000</td>\n",
       "      <td>666.000000</td>\n",
       "      <td>20.200000</td>\n",
       "      <td>396.007500</td>\n",
       "      <td>16.992500</td>\n",
       "    </tr>\n",
       "    <tr>\n",
       "      <th>max</th>\n",
       "      <td>9.966540</td>\n",
       "      <td>100.000000</td>\n",
       "      <td>27.740000</td>\n",
       "      <td>1.000000</td>\n",
       "      <td>0.871000</td>\n",
       "      <td>8.780000</td>\n",
       "      <td>100.000000</td>\n",
       "      <td>12.126500</td>\n",
       "      <td>24.000000</td>\n",
       "      <td>711.000000</td>\n",
       "      <td>22.000000</td>\n",
       "      <td>396.900000</td>\n",
       "      <td>37.970000</td>\n",
       "    </tr>\n",
       "  </tbody>\n",
       "</table>\n",
       "</div>"
      ],
      "text/plain": [
       "             CRIM          ZN       INDUS        CHAS         NOX          RM  \\\n",
       "count  400.000000  400.000000  400.000000  400.000000  400.000000  400.000000   \n",
       "mean     1.750448   10.460000   11.366800    0.070000    0.558980    6.305620   \n",
       "std      2.626672   22.258076    6.806869    0.255467    0.118738    0.687595   \n",
       "min      0.006320    0.000000    0.460000    0.000000    0.385000    4.138000   \n",
       "25%      0.088282    0.000000    5.320000    0.000000    0.452000    5.887750   \n",
       "50%      0.274475    0.000000    9.900000    0.000000    0.538000    6.213500   \n",
       "75%      2.396888    3.125000   18.100000    0.000000    0.631000    6.629250   \n",
       "max      9.966540  100.000000   27.740000    1.000000    0.871000    8.780000   \n",
       "\n",
       "              AGE         DIS         RAD         TAX   PTRATIO             B  \\\n",
       "count  400.000000  400.000000  400.000000  400.000000  400.000000  400.000000   \n",
       "mean    68.952250    3.759230    9.720000  411.605000   18.497250  354.095550   \n",
       "std     28.224529    2.090139    8.806275  168.913256    2.121478   93.971145   \n",
       "min      2.900000    1.129600    1.000000  187.000000   12.600000    0.320000   \n",
       "25%     45.800000    2.087875    4.000000  281.000000   17.400000  374.527500   \n",
       "50%     78.750000    3.142300    5.000000  332.000000   19.050000  390.660000   \n",
       "75%     93.900000    5.116700   24.000000  666.000000   20.200000  396.007500   \n",
       "max    100.000000   12.126500   24.000000  711.000000   22.000000  396.900000   \n",
       "\n",
       "            LSTAT  \n",
       "count  400.000000  \n",
       "mean    12.726100  \n",
       "std      7.138033  \n",
       "min      1.730000  \n",
       "25%      7.187500  \n",
       "50%     11.655000  \n",
       "75%     16.992500  \n",
       "max     37.970000  "
      ]
     },
     "execution_count": 40,
     "metadata": {},
     "output_type": "execute_result"
    }
   ],
   "source": [
    "housing.describe()"
   ]
  },
  {
   "cell_type": "code",
   "execution_count": 41,
   "id": "c135b574",
   "metadata": {},
   "outputs": [
    {
     "data": {
      "text/html": [
       "<style>#sk-container-id-1 {color: black;}#sk-container-id-1 pre{padding: 0;}#sk-container-id-1 div.sk-toggleable {background-color: white;}#sk-container-id-1 label.sk-toggleable__label {cursor: pointer;display: block;width: 100%;margin-bottom: 0;padding: 0.3em;box-sizing: border-box;text-align: center;}#sk-container-id-1 label.sk-toggleable__label-arrow:before {content: \"▸\";float: left;margin-right: 0.25em;color: #696969;}#sk-container-id-1 label.sk-toggleable__label-arrow:hover:before {color: black;}#sk-container-id-1 div.sk-estimator:hover label.sk-toggleable__label-arrow:before {color: black;}#sk-container-id-1 div.sk-toggleable__content {max-height: 0;max-width: 0;overflow: hidden;text-align: left;background-color: #f0f8ff;}#sk-container-id-1 div.sk-toggleable__content pre {margin: 0.2em;color: black;border-radius: 0.25em;background-color: #f0f8ff;}#sk-container-id-1 input.sk-toggleable__control:checked~div.sk-toggleable__content {max-height: 200px;max-width: 100%;overflow: auto;}#sk-container-id-1 input.sk-toggleable__control:checked~label.sk-toggleable__label-arrow:before {content: \"▾\";}#sk-container-id-1 div.sk-estimator input.sk-toggleable__control:checked~label.sk-toggleable__label {background-color: #d4ebff;}#sk-container-id-1 div.sk-label input.sk-toggleable__control:checked~label.sk-toggleable__label {background-color: #d4ebff;}#sk-container-id-1 input.sk-hidden--visually {border: 0;clip: rect(1px 1px 1px 1px);clip: rect(1px, 1px, 1px, 1px);height: 1px;margin: -1px;overflow: hidden;padding: 0;position: absolute;width: 1px;}#sk-container-id-1 div.sk-estimator {font-family: monospace;background-color: #f0f8ff;border: 1px dotted black;border-radius: 0.25em;box-sizing: border-box;margin-bottom: 0.5em;}#sk-container-id-1 div.sk-estimator:hover {background-color: #d4ebff;}#sk-container-id-1 div.sk-parallel-item::after {content: \"\";width: 100%;border-bottom: 1px solid gray;flex-grow: 1;}#sk-container-id-1 div.sk-label:hover label.sk-toggleable__label {background-color: #d4ebff;}#sk-container-id-1 div.sk-serial::before {content: \"\";position: absolute;border-left: 1px solid gray;box-sizing: border-box;top: 0;bottom: 0;left: 50%;z-index: 0;}#sk-container-id-1 div.sk-serial {display: flex;flex-direction: column;align-items: center;background-color: white;padding-right: 0.2em;padding-left: 0.2em;position: relative;}#sk-container-id-1 div.sk-item {position: relative;z-index: 1;}#sk-container-id-1 div.sk-parallel {display: flex;align-items: stretch;justify-content: center;background-color: white;position: relative;}#sk-container-id-1 div.sk-item::before, #sk-container-id-1 div.sk-parallel-item::before {content: \"\";position: absolute;border-left: 1px solid gray;box-sizing: border-box;top: 0;bottom: 0;left: 50%;z-index: -1;}#sk-container-id-1 div.sk-parallel-item {display: flex;flex-direction: column;z-index: 1;position: relative;background-color: white;}#sk-container-id-1 div.sk-parallel-item:first-child::after {align-self: flex-end;width: 50%;}#sk-container-id-1 div.sk-parallel-item:last-child::after {align-self: flex-start;width: 50%;}#sk-container-id-1 div.sk-parallel-item:only-child::after {width: 0;}#sk-container-id-1 div.sk-dashed-wrapped {border: 1px dashed gray;margin: 0 0.4em 0.5em 0.4em;box-sizing: border-box;padding-bottom: 0.4em;background-color: white;}#sk-container-id-1 div.sk-label label {font-family: monospace;font-weight: bold;display: inline-block;line-height: 1.2em;}#sk-container-id-1 div.sk-label-container {text-align: center;}#sk-container-id-1 div.sk-container {/* jupyter's `normalize.less` sets `[hidden] { display: none; }` but bootstrap.min.css set `[hidden] { display: none !important; }` so we also need the `!important` here to be able to override the default hidden behavior on the sphinx rendered scikit-learn.org. See: https://github.com/scikit-learn/scikit-learn/issues/21755 */display: inline-block !important;position: relative;}#sk-container-id-1 div.sk-text-repr-fallback {display: none;}</style><div id=\"sk-container-id-1\" class=\"sk-top-container\"><div class=\"sk-text-repr-fallback\"><pre>SimpleImputer(strategy=&#x27;median&#x27;)</pre><b>In a Jupyter environment, please rerun this cell to show the HTML representation or trust the notebook. <br />On GitHub, the HTML representation is unable to render, please try loading this page with nbviewer.org.</b></div><div class=\"sk-container\" hidden><div class=\"sk-item\"><div class=\"sk-estimator sk-toggleable\"><input class=\"sk-toggleable__control sk-hidden--visually\" id=\"sk-estimator-id-1\" type=\"checkbox\" checked><label for=\"sk-estimator-id-1\" class=\"sk-toggleable__label sk-toggleable__label-arrow\">SimpleImputer</label><div class=\"sk-toggleable__content\"><pre>SimpleImputer(strategy=&#x27;median&#x27;)</pre></div></div></div></div></div>"
      ],
      "text/plain": [
       "SimpleImputer(strategy='median')"
      ]
     },
     "execution_count": 41,
     "metadata": {},
     "output_type": "execute_result"
    }
   ],
   "source": [
    "from sklearn.impute import SimpleImputer\n",
    "imputer = SimpleImputer(strategy = 'median')\n",
    "imputer.fit(housing)"
   ]
  },
  {
   "cell_type": "code",
   "execution_count": 42,
   "id": "82008340",
   "metadata": {},
   "outputs": [
    {
     "data": {
      "text/plain": [
       "array([2.74475e-01, 0.00000e+00, 9.90000e+00, 0.00000e+00, 5.38000e-01,\n",
       "       6.21350e+00, 7.87500e+01, 3.14230e+00, 5.00000e+00, 3.32000e+02,\n",
       "       1.90500e+01, 3.90660e+02, 1.16550e+01])"
      ]
     },
     "execution_count": 42,
     "metadata": {},
     "output_type": "execute_result"
    }
   ],
   "source": [
    "imputer.statistics_\n"
   ]
  },
  {
   "cell_type": "code",
   "execution_count": 43,
   "id": "60783663",
   "metadata": {},
   "outputs": [],
   "source": [
    "x= imputer.transform(housing)"
   ]
  },
  {
   "cell_type": "code",
   "execution_count": 44,
   "id": "4b819925",
   "metadata": {},
   "outputs": [],
   "source": [
    "housing_tr= pd.DataFrame(x,columns= housing.columns)"
   ]
  },
  {
   "cell_type": "code",
   "execution_count": 45,
   "id": "27301422",
   "metadata": {},
   "outputs": [
    {
     "data": {
      "text/html": [
       "<div>\n",
       "<style scoped>\n",
       "    .dataframe tbody tr th:only-of-type {\n",
       "        vertical-align: middle;\n",
       "    }\n",
       "\n",
       "    .dataframe tbody tr th {\n",
       "        vertical-align: top;\n",
       "    }\n",
       "\n",
       "    .dataframe thead th {\n",
       "        text-align: right;\n",
       "    }\n",
       "</style>\n",
       "<table border=\"1\" class=\"dataframe\">\n",
       "  <thead>\n",
       "    <tr style=\"text-align: right;\">\n",
       "      <th></th>\n",
       "      <th>CRIM</th>\n",
       "      <th>ZN</th>\n",
       "      <th>INDUS</th>\n",
       "      <th>CHAS</th>\n",
       "      <th>NOX</th>\n",
       "      <th>RM</th>\n",
       "      <th>AGE</th>\n",
       "      <th>DIS</th>\n",
       "      <th>RAD</th>\n",
       "      <th>TAX</th>\n",
       "      <th>PTRATIO</th>\n",
       "      <th>B</th>\n",
       "      <th>LSTAT</th>\n",
       "    </tr>\n",
       "  </thead>\n",
       "  <tbody>\n",
       "    <tr>\n",
       "      <th>count</th>\n",
       "      <td>400.000000</td>\n",
       "      <td>400.000000</td>\n",
       "      <td>400.000000</td>\n",
       "      <td>400.000000</td>\n",
       "      <td>400.000000</td>\n",
       "      <td>400.000000</td>\n",
       "      <td>400.000000</td>\n",
       "      <td>400.000000</td>\n",
       "      <td>400.000000</td>\n",
       "      <td>400.000000</td>\n",
       "      <td>400.000000</td>\n",
       "      <td>400.000000</td>\n",
       "      <td>400.000000</td>\n",
       "    </tr>\n",
       "    <tr>\n",
       "      <th>mean</th>\n",
       "      <td>1.750448</td>\n",
       "      <td>10.460000</td>\n",
       "      <td>11.366800</td>\n",
       "      <td>0.070000</td>\n",
       "      <td>0.558980</td>\n",
       "      <td>6.305620</td>\n",
       "      <td>68.952250</td>\n",
       "      <td>3.759230</td>\n",
       "      <td>9.720000</td>\n",
       "      <td>411.605000</td>\n",
       "      <td>18.497250</td>\n",
       "      <td>354.095550</td>\n",
       "      <td>12.726100</td>\n",
       "    </tr>\n",
       "    <tr>\n",
       "      <th>std</th>\n",
       "      <td>2.626672</td>\n",
       "      <td>22.258076</td>\n",
       "      <td>6.806869</td>\n",
       "      <td>0.255467</td>\n",
       "      <td>0.118738</td>\n",
       "      <td>0.687595</td>\n",
       "      <td>28.224529</td>\n",
       "      <td>2.090139</td>\n",
       "      <td>8.806275</td>\n",
       "      <td>168.913256</td>\n",
       "      <td>2.121478</td>\n",
       "      <td>93.971145</td>\n",
       "      <td>7.138033</td>\n",
       "    </tr>\n",
       "    <tr>\n",
       "      <th>min</th>\n",
       "      <td>0.006320</td>\n",
       "      <td>0.000000</td>\n",
       "      <td>0.460000</td>\n",
       "      <td>0.000000</td>\n",
       "      <td>0.385000</td>\n",
       "      <td>4.138000</td>\n",
       "      <td>2.900000</td>\n",
       "      <td>1.129600</td>\n",
       "      <td>1.000000</td>\n",
       "      <td>187.000000</td>\n",
       "      <td>12.600000</td>\n",
       "      <td>0.320000</td>\n",
       "      <td>1.730000</td>\n",
       "    </tr>\n",
       "    <tr>\n",
       "      <th>25%</th>\n",
       "      <td>0.088282</td>\n",
       "      <td>0.000000</td>\n",
       "      <td>5.320000</td>\n",
       "      <td>0.000000</td>\n",
       "      <td>0.452000</td>\n",
       "      <td>5.887750</td>\n",
       "      <td>45.800000</td>\n",
       "      <td>2.087875</td>\n",
       "      <td>4.000000</td>\n",
       "      <td>281.000000</td>\n",
       "      <td>17.400000</td>\n",
       "      <td>374.527500</td>\n",
       "      <td>7.187500</td>\n",
       "    </tr>\n",
       "    <tr>\n",
       "      <th>50%</th>\n",
       "      <td>0.274475</td>\n",
       "      <td>0.000000</td>\n",
       "      <td>9.900000</td>\n",
       "      <td>0.000000</td>\n",
       "      <td>0.538000</td>\n",
       "      <td>6.213500</td>\n",
       "      <td>78.750000</td>\n",
       "      <td>3.142300</td>\n",
       "      <td>5.000000</td>\n",
       "      <td>332.000000</td>\n",
       "      <td>19.050000</td>\n",
       "      <td>390.660000</td>\n",
       "      <td>11.655000</td>\n",
       "    </tr>\n",
       "    <tr>\n",
       "      <th>75%</th>\n",
       "      <td>2.396888</td>\n",
       "      <td>3.125000</td>\n",
       "      <td>18.100000</td>\n",
       "      <td>0.000000</td>\n",
       "      <td>0.631000</td>\n",
       "      <td>6.629250</td>\n",
       "      <td>93.900000</td>\n",
       "      <td>5.116700</td>\n",
       "      <td>24.000000</td>\n",
       "      <td>666.000000</td>\n",
       "      <td>20.200000</td>\n",
       "      <td>396.007500</td>\n",
       "      <td>16.992500</td>\n",
       "    </tr>\n",
       "    <tr>\n",
       "      <th>max</th>\n",
       "      <td>9.966540</td>\n",
       "      <td>100.000000</td>\n",
       "      <td>27.740000</td>\n",
       "      <td>1.000000</td>\n",
       "      <td>0.871000</td>\n",
       "      <td>8.780000</td>\n",
       "      <td>100.000000</td>\n",
       "      <td>12.126500</td>\n",
       "      <td>24.000000</td>\n",
       "      <td>711.000000</td>\n",
       "      <td>22.000000</td>\n",
       "      <td>396.900000</td>\n",
       "      <td>37.970000</td>\n",
       "    </tr>\n",
       "  </tbody>\n",
       "</table>\n",
       "</div>"
      ],
      "text/plain": [
       "             CRIM          ZN       INDUS        CHAS         NOX          RM  \\\n",
       "count  400.000000  400.000000  400.000000  400.000000  400.000000  400.000000   \n",
       "mean     1.750448   10.460000   11.366800    0.070000    0.558980    6.305620   \n",
       "std      2.626672   22.258076    6.806869    0.255467    0.118738    0.687595   \n",
       "min      0.006320    0.000000    0.460000    0.000000    0.385000    4.138000   \n",
       "25%      0.088282    0.000000    5.320000    0.000000    0.452000    5.887750   \n",
       "50%      0.274475    0.000000    9.900000    0.000000    0.538000    6.213500   \n",
       "75%      2.396888    3.125000   18.100000    0.000000    0.631000    6.629250   \n",
       "max      9.966540  100.000000   27.740000    1.000000    0.871000    8.780000   \n",
       "\n",
       "              AGE         DIS         RAD         TAX   PTRATIO             B  \\\n",
       "count  400.000000  400.000000  400.000000  400.000000  400.000000  400.000000   \n",
       "mean    68.952250    3.759230    9.720000  411.605000   18.497250  354.095550   \n",
       "std     28.224529    2.090139    8.806275  168.913256    2.121478   93.971145   \n",
       "min      2.900000    1.129600    1.000000  187.000000   12.600000    0.320000   \n",
       "25%     45.800000    2.087875    4.000000  281.000000   17.400000  374.527500   \n",
       "50%     78.750000    3.142300    5.000000  332.000000   19.050000  390.660000   \n",
       "75%     93.900000    5.116700   24.000000  666.000000   20.200000  396.007500   \n",
       "max    100.000000   12.126500   24.000000  711.000000   22.000000  396.900000   \n",
       "\n",
       "            LSTAT  \n",
       "count  400.000000  \n",
       "mean    12.726100  \n",
       "std      7.138033  \n",
       "min      1.730000  \n",
       "25%      7.187500  \n",
       "50%     11.655000  \n",
       "75%     16.992500  \n",
       "max     37.970000  "
      ]
     },
     "execution_count": 45,
     "metadata": {},
     "output_type": "execute_result"
    }
   ],
   "source": [
    "housing_tr.describe()"
   ]
  },
  {
   "cell_type": "markdown",
   "id": "6b7cf837",
   "metadata": {},
   "source": [
    "# Scikit-Learn Design"
   ]
  },
  {
   "cell_type": "markdown",
   "id": "bd8f736a",
   "metadata": {},
   "source": [
    "Primarily ,three types of objects:\n",
    "1.Estimators:- It estimates some parameter based on dataset.eg imputer\n",
    "2.Transformers\n",
    "3.Predictors\n"
   ]
  },
  {
   "cell_type": "markdown",
   "id": "25bc5149",
   "metadata": {},
   "source": [
    "# Creating a Pipeline"
   ]
  },
  {
   "cell_type": "code",
   "execution_count": 46,
   "id": "c233a312",
   "metadata": {},
   "outputs": [],
   "source": [
    "from sklearn.pipeline import Pipeline\n",
    "from sklearn.preprocessing import StandardScaler\n",
    "my_pipeline = Pipeline([\n",
    "    ('imputer', SimpleImputer(strategy = 'median')),\n",
    "    #..add as many as you want inn ur pipeline\n",
    "    ('std_scalar',StandardScaler()),\n",
    "    \n",
    "    \n",
    "    \n",
    "    \n",
    "    \n",
    "    \n",
    "])"
   ]
  },
  {
   "cell_type": "code",
   "execution_count": 47,
   "id": "b4a51761",
   "metadata": {},
   "outputs": [],
   "source": [
    "housing_num_tr = my_pipeline.fit_transform(housing)"
   ]
  },
  {
   "cell_type": "code",
   "execution_count": 48,
   "id": "96f952a7",
   "metadata": {
    "scrolled": true
   },
   "outputs": [
    {
     "data": {
      "text/plain": [
       "array([[-0.36832087, -0.47053031, -0.47464423, ...,  1.18119738,\n",
       "         0.34792962,  0.27267098],\n",
       "       [-0.63864697,  1.01393435, -1.35132688, ..., -0.04589809,\n",
       "         0.45607677, -0.87754355],\n",
       "       [-0.51959477, -0.47053031,  2.1009788 , ...,  0.28447377,\n",
       "         0.0553463 ,  2.0386711 ],\n",
       "       ...,\n",
       "       [-0.6190273 ,  0.65406413, -0.91739838, ...,  0.56764965,\n",
       "         0.44201231, -0.45252526],\n",
       "       [ 1.57199521, -0.47053031,  0.99041605, ...,  0.80362954,\n",
       "         0.45607677,  1.1718021 ],\n",
       "       [ 0.65710161, -0.47053031,  0.99041605, ...,  0.80362954,\n",
       "         0.00484212, -1.04306223]])"
      ]
     },
     "execution_count": 48,
     "metadata": {},
     "output_type": "execute_result"
    }
   ],
   "source": [
    "housing_num_tr"
   ]
  },
  {
   "cell_type": "markdown",
   "id": "f10a684a",
   "metadata": {},
   "source": [
    "# Selecting a Desired Model for Dragon Real Estate\n"
   ]
  },
  {
   "cell_type": "code",
   "execution_count": 49,
   "id": "f85feedd",
   "metadata": {},
   "outputs": [
    {
     "data": {
      "text/html": [
       "<style>#sk-container-id-2 {color: black;}#sk-container-id-2 pre{padding: 0;}#sk-container-id-2 div.sk-toggleable {background-color: white;}#sk-container-id-2 label.sk-toggleable__label {cursor: pointer;display: block;width: 100%;margin-bottom: 0;padding: 0.3em;box-sizing: border-box;text-align: center;}#sk-container-id-2 label.sk-toggleable__label-arrow:before {content: \"▸\";float: left;margin-right: 0.25em;color: #696969;}#sk-container-id-2 label.sk-toggleable__label-arrow:hover:before {color: black;}#sk-container-id-2 div.sk-estimator:hover label.sk-toggleable__label-arrow:before {color: black;}#sk-container-id-2 div.sk-toggleable__content {max-height: 0;max-width: 0;overflow: hidden;text-align: left;background-color: #f0f8ff;}#sk-container-id-2 div.sk-toggleable__content pre {margin: 0.2em;color: black;border-radius: 0.25em;background-color: #f0f8ff;}#sk-container-id-2 input.sk-toggleable__control:checked~div.sk-toggleable__content {max-height: 200px;max-width: 100%;overflow: auto;}#sk-container-id-2 input.sk-toggleable__control:checked~label.sk-toggleable__label-arrow:before {content: \"▾\";}#sk-container-id-2 div.sk-estimator input.sk-toggleable__control:checked~label.sk-toggleable__label {background-color: #d4ebff;}#sk-container-id-2 div.sk-label input.sk-toggleable__control:checked~label.sk-toggleable__label {background-color: #d4ebff;}#sk-container-id-2 input.sk-hidden--visually {border: 0;clip: rect(1px 1px 1px 1px);clip: rect(1px, 1px, 1px, 1px);height: 1px;margin: -1px;overflow: hidden;padding: 0;position: absolute;width: 1px;}#sk-container-id-2 div.sk-estimator {font-family: monospace;background-color: #f0f8ff;border: 1px dotted black;border-radius: 0.25em;box-sizing: border-box;margin-bottom: 0.5em;}#sk-container-id-2 div.sk-estimator:hover {background-color: #d4ebff;}#sk-container-id-2 div.sk-parallel-item::after {content: \"\";width: 100%;border-bottom: 1px solid gray;flex-grow: 1;}#sk-container-id-2 div.sk-label:hover label.sk-toggleable__label {background-color: #d4ebff;}#sk-container-id-2 div.sk-serial::before {content: \"\";position: absolute;border-left: 1px solid gray;box-sizing: border-box;top: 0;bottom: 0;left: 50%;z-index: 0;}#sk-container-id-2 div.sk-serial {display: flex;flex-direction: column;align-items: center;background-color: white;padding-right: 0.2em;padding-left: 0.2em;position: relative;}#sk-container-id-2 div.sk-item {position: relative;z-index: 1;}#sk-container-id-2 div.sk-parallel {display: flex;align-items: stretch;justify-content: center;background-color: white;position: relative;}#sk-container-id-2 div.sk-item::before, #sk-container-id-2 div.sk-parallel-item::before {content: \"\";position: absolute;border-left: 1px solid gray;box-sizing: border-box;top: 0;bottom: 0;left: 50%;z-index: -1;}#sk-container-id-2 div.sk-parallel-item {display: flex;flex-direction: column;z-index: 1;position: relative;background-color: white;}#sk-container-id-2 div.sk-parallel-item:first-child::after {align-self: flex-end;width: 50%;}#sk-container-id-2 div.sk-parallel-item:last-child::after {align-self: flex-start;width: 50%;}#sk-container-id-2 div.sk-parallel-item:only-child::after {width: 0;}#sk-container-id-2 div.sk-dashed-wrapped {border: 1px dashed gray;margin: 0 0.4em 0.5em 0.4em;box-sizing: border-box;padding-bottom: 0.4em;background-color: white;}#sk-container-id-2 div.sk-label label {font-family: monospace;font-weight: bold;display: inline-block;line-height: 1.2em;}#sk-container-id-2 div.sk-label-container {text-align: center;}#sk-container-id-2 div.sk-container {/* jupyter's `normalize.less` sets `[hidden] { display: none; }` but bootstrap.min.css set `[hidden] { display: none !important; }` so we also need the `!important` here to be able to override the default hidden behavior on the sphinx rendered scikit-learn.org. See: https://github.com/scikit-learn/scikit-learn/issues/21755 */display: inline-block !important;position: relative;}#sk-container-id-2 div.sk-text-repr-fallback {display: none;}</style><div id=\"sk-container-id-2\" class=\"sk-top-container\"><div class=\"sk-text-repr-fallback\"><pre>RandomForestRegressor()</pre><b>In a Jupyter environment, please rerun this cell to show the HTML representation or trust the notebook. <br />On GitHub, the HTML representation is unable to render, please try loading this page with nbviewer.org.</b></div><div class=\"sk-container\" hidden><div class=\"sk-item\"><div class=\"sk-estimator sk-toggleable\"><input class=\"sk-toggleable__control sk-hidden--visually\" id=\"sk-estimator-id-2\" type=\"checkbox\" checked><label for=\"sk-estimator-id-2\" class=\"sk-toggleable__label sk-toggleable__label-arrow\">RandomForestRegressor</label><div class=\"sk-toggleable__content\"><pre>RandomForestRegressor()</pre></div></div></div></div></div>"
      ],
      "text/plain": [
       "RandomForestRegressor()"
      ]
     },
     "execution_count": 49,
     "metadata": {},
     "output_type": "execute_result"
    }
   ],
   "source": [
    "from sklearn.linear_model import LinearRegression\n",
    "from sklearn.tree import DecisionTreeRegressor\n",
    "from sklearn.ensemble import RandomForestRegressor\n",
    "# model = DecisionTreeRegressor()\n",
    "# model = LinearRegression()\n",
    "model = RandomForestRegressor()\n",
    "model.fit(housing_num_tr,housing_labels)"
   ]
  },
  {
   "cell_type": "code",
   "execution_count": 50,
   "id": "809d97c5",
   "metadata": {},
   "outputs": [],
   "source": [
    "some_data =housing.iloc[:5]"
   ]
  },
  {
   "cell_type": "code",
   "execution_count": 51,
   "id": "ef6509fd",
   "metadata": {},
   "outputs": [],
   "source": [
    "some_labels = housing_labels.iloc[:5]"
   ]
  },
  {
   "cell_type": "code",
   "execution_count": 52,
   "id": "18cb7bc6",
   "metadata": {},
   "outputs": [],
   "source": [
    "prepared_data = my_pipeline.transform(some_data)"
   ]
  },
  {
   "cell_type": "code",
   "execution_count": 53,
   "id": "e533ac2f",
   "metadata": {},
   "outputs": [
    {
     "data": {
      "text/plain": [
       "array([17.974, 33.536, 16.02 , 45.137, 14.004])"
      ]
     },
     "execution_count": 53,
     "metadata": {},
     "output_type": "execute_result"
    }
   ],
   "source": [
    "model.predict(prepared_data)"
   ]
  },
  {
   "cell_type": "code",
   "execution_count": 54,
   "id": "a70f63fa",
   "metadata": {},
   "outputs": [
    {
     "data": {
      "text/plain": [
       "[17.5, 33.4, 15.7, 44.8, 13.8]"
      ]
     },
     "execution_count": 54,
     "metadata": {},
     "output_type": "execute_result"
    }
   ],
   "source": [
    "list(some_labels)"
   ]
  },
  {
   "cell_type": "code",
   "execution_count": 55,
   "id": "223b9b9c",
   "metadata": {},
   "outputs": [],
   "source": [
    "import numpy as np\n",
    "from sklearn.metrics import mean_squared_error\n",
    "housing_predictions = model.predict(housing_num_tr)\n",
    "mse = mean_squared_error(housing_labels, housing_predictions)\n",
    "rmse = np.sqrt(mse)"
   ]
  },
  {
   "cell_type": "code",
   "execution_count": 56,
   "id": "aafa81e7",
   "metadata": {},
   "outputs": [
    {
     "data": {
      "text/plain": [
       "1.24702506490447"
      ]
     },
     "execution_count": 56,
     "metadata": {},
     "output_type": "execute_result"
    }
   ],
   "source": [
    "rmse"
   ]
  },
  {
   "cell_type": "markdown",
   "id": "11c9e2ce",
   "metadata": {},
   "source": [
    "using better evaluation techinque-cross validation"
   ]
  },
  {
   "cell_type": "code",
   "execution_count": 57,
   "id": "078dcd44",
   "metadata": {},
   "outputs": [],
   "source": [
    "\n",
    "import numpy as np\n",
    "from sklearn.model_selection import cross_val_score\n",
    "from sklearn.linear_model import LinearRegression\n",
    "\n",
    "# Assuming housing_num_tr and housing_labels are preprocessed feature and label data\n",
    "\n",
    "# Instantiate the LinearRegression model\n",
    "model = LinearRegression()\n",
    "\n",
    "# Perform cross-validation and obtain scores\n",
    "scores = cross_val_score(model, housing_num_tr, housing_labels, scoring=\"neg_mean_squared_error\", cv=10)\n",
    "\n",
    "# Calculate RMSE scores\n",
    "rmse_scores = np.sqrt(-scores)\n"
   ]
  },
  {
   "cell_type": "code",
   "execution_count": 58,
   "id": "00fe2c14",
   "metadata": {},
   "outputs": [
    {
     "data": {
      "text/plain": [
       "array([4.11071298, 4.7515808 , 5.43941371, 3.76954298, 6.28527156,\n",
       "       4.41830732, 6.84616224, 3.70795204, 4.50713575, 6.29732418])"
      ]
     },
     "execution_count": 58,
     "metadata": {},
     "output_type": "execute_result"
    }
   ],
   "source": [
    "rmse_scores"
   ]
  },
  {
   "cell_type": "code",
   "execution_count": 59,
   "id": "5c1b794e",
   "metadata": {},
   "outputs": [],
   "source": [
    "def print_scores(scores):\n",
    "    print(\"scores:\", scores)\n",
    "    print(\"Mean:\",scores.mean())\n",
    "    print(\"Standards deviation: \",scores.std())"
   ]
  },
  {
   "cell_type": "code",
   "execution_count": 60,
   "id": "4b781eef",
   "metadata": {},
   "outputs": [
    {
     "name": "stdout",
     "output_type": "stream",
     "text": [
      "scores: [4.11071298 4.7515808  5.43941371 3.76954298 6.28527156 4.41830732\n",
      " 6.84616224 3.70795204 4.50713575 6.29732418]\n",
      "Mean: 5.0133403558576095\n",
      "Standards deviation:  1.0747944100703337\n"
     ]
    }
   ],
   "source": [
    "print_scores(rmse_scores)"
   ]
  },
  {
   "cell_type": "code",
   "execution_count": 61,
   "id": "262fc3f1",
   "metadata": {},
   "outputs": [],
   "source": [
    "#convert this pipeline into a python python file and run it using vs code"
   ]
  },
  {
   "cell_type": "markdown",
   "id": "ca3c86c6",
   "metadata": {},
   "source": [
    "# Saving the model"
   ]
  },
  {
   "cell_type": "code",
   "execution_count": 62,
   "id": "67a5a734",
   "metadata": {},
   "outputs": [
    {
     "data": {
      "text/plain": [
       "['Dragon.joblib']"
      ]
     },
     "execution_count": 62,
     "metadata": {},
     "output_type": "execute_result"
    }
   ],
   "source": [
    "from joblib import dump, load\n",
    "dump(model, 'Dragon.joblib') \n"
   ]
  },
  {
   "cell_type": "markdown",
   "id": "238be7c9",
   "metadata": {},
   "source": [
    "# Testing the model"
   ]
  },
  {
   "cell_type": "code",
   "execution_count": 64,
   "id": "352019c7",
   "metadata": {},
   "outputs": [
    {
     "name": "stdout",
     "output_type": "stream",
     "text": [
      "[33.86442263 26.15717615 26.0015372  29.95357703 25.70742244 21.73180243\n",
      "  6.18477928 24.39952649 22.99826136 21.58120611 36.04593997 26.89836366\n",
      " 25.73698748 37.02652848 29.80145369 20.13530487 10.33097232 31.06135378\n",
      " 18.1752908  21.80999779 17.38370804 28.5434534  18.08610193 14.33926308\n",
      " 25.73515877 22.52855165 22.8127911  21.79804505 20.07137438 31.59937583\n",
      " 29.1750819  17.08153885 22.67446345 18.13155319 28.3268579  13.55699318\n",
      " 20.42371904 21.89562581 15.24260298 30.48587373 32.41754002 14.56258694\n",
      " 22.62825648 32.37438734 12.55593191  8.48040728 32.38223499 18.97944072\n",
      " 26.0822146  15.37548552 20.66312374 28.62841958 15.07089187 14.82786611\n",
      " 20.12142832 32.59831311 38.20491773 27.43907158 31.40040863 22.13324297\n",
      " 12.89280742 26.41680103 20.34937492 21.31584333  8.00345345 17.22284158\n",
      " 15.19509648 25.50977728  7.78725916 28.89606048 14.13094502 31.45214676\n",
      " 17.36834313 21.78590104 22.44130994 13.93294772 11.16948808 20.60212948\n",
      " 25.18282937  4.83695446 32.34194271 29.79153533 12.78052801 14.75293334\n",
      " 14.77391331 14.30884552 23.93671082 32.03998476 31.47493731 32.65972541\n",
      " 22.18107178 24.81563348 17.14687411 26.8365929  18.93268922 16.24101278\n",
      " 25.4114685  18.81885666 24.85206873 20.49171062 21.59844789] [34.6, 22.3, 24.8, 28.7, 28.6, 24.1, 8.1, 25.0, 20.1, 21.5, 45.4, 25.0, 23.0, 42.3, 24.1, 19.7, 12.3, 31.6, 18.2, 20.1, 18.7, 23.7, 18.9, 15.2, 26.5, 20.0, 21.6, 20.6, 21.1, 28.2, 32.7, 17.1, 21.7, 17.8, 30.1, 13.1, 19.1, 21.2, 13.3, 24.8, 36.1, 18.8, 19.8, 28.5, 14.5, 10.2, 30.1, 22.2, 23.2, 27.5, 20.6, 22.0, 17.8, 15.1, 19.4, 33.8, 50.0, 22.8, 34.9, 21.7, 15.2, 25.0, 17.4, 19.3, 6.3, 17.5, 13.3, 24.3, 7.2, 27.0, 11.9, 31.5, 19.1, 26.4, 21.8, 18.4, 8.8, 18.7, 24.0, 17.9, 35.2, 35.4, 9.5, 8.3, 10.2, 8.3, 23.4, 32.9, 37.2, 35.4, 20.5, 24.7, 19.1, 22.6, 10.9, 23.1, 23.1, 23.1, 23.7, 11.9, 21.7]\n"
     ]
    }
   ],
   "source": [
    "import numpy as np\n",
    "from sklearn.metrics import mean_squared_error\n",
    "\n",
    "x_test = strat_test_set.drop(' MEDV', axis=1)\n",
    "y_test = strat_test_set[' MEDV'].copy()\n",
    "x_test_prepared = my_pipeline.transform(x_test)\n",
    "model.fit(x_test_prepared, y_test)\n",
    "final_prediction = model.predict(x_test_prepared)\n",
    "final_mse = mean_squared_error(y_test, final_prediction)\n",
    "final_rmse = np.sqrt(final_mse)\n",
    "print(final_prediction, list(y_test))"
   ]
  },
  {
   "cell_type": "code",
   "execution_count": 65,
   "id": "bc58bfae",
   "metadata": {},
   "outputs": [
    {
     "data": {
      "text/plain": [
       "3.805032302010206"
      ]
     },
     "execution_count": 65,
     "metadata": {},
     "output_type": "execute_result"
    }
   ],
   "source": [
    "final_rmse"
   ]
  },
  {
   "cell_type": "code",
   "execution_count": null,
   "id": "515159fe",
   "metadata": {},
   "outputs": [],
   "source": []
  }
 ],
 "metadata": {
  "kernelspec": {
   "display_name": "Python 3 (ipykernel)",
   "language": "python",
   "name": "python3"
  },
  "language_info": {
   "codemirror_mode": {
    "name": "ipython",
    "version": 3
   },
   "file_extension": ".py",
   "mimetype": "text/x-python",
   "name": "python",
   "nbconvert_exporter": "python",
   "pygments_lexer": "ipython3",
   "version": "3.11.4"
  }
 },
 "nbformat": 4,
 "nbformat_minor": 5
}
